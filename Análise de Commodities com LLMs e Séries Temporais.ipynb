{
  "cells": [
    {
      "cell_type": "markdown",
      "metadata": {
        "id": "Y6QILOdpOjwv"
      },
      "source": [
        "# **Processamento de Linguagem Natural [2024-Q2]**\n",
        "Prof. Alexandre Donizeti Alves"
      ]
    },
    {
      "cell_type": "markdown",
      "source": [
        "# **Introdução**\n",
        "Os indicativos de ativos, especialmente no mercado de commodities, desempenham um papel fundamental para investidores, economistas e empresas. Commodities como petróleo, ouro, e grãos são a base de diversas indústrias, sendo fortemente impactadas por variações de oferta e demanda, políticas econômicas, e eventos globais. A análise desses indicativos permite a antecipação de tendências de preços e movimentos de mercado, ajudando na tomada de decisões estratégicas.\n",
        "\n",
        "Neste contexto, o uso de Large Language Models (LLMs), tem ganhado destaque. LLMs permitem a análise automatizada de grandes volumes de dados, extraindo insights de notícias e relatórios com rapidez. Além disso, eles podem ser treinados para identificar padrões e fornecer previsões sobre possíveis quedas ou subidas de ativos, como commodities, utilizando dados históricos e variáveis contextuais. A combinação da capacidade de processamento de linguagem natural com algoritmos de machine learning permite gerar relatórios que antecipam oscilações e fornecem recomendações baseadas em informações detalhadas.\n",
        "\n",
        "Nesse projeto foi realizada uma análise da tendência de preços de commodities, combinando a análise de sentimento de notícias relevantes com a avaliação de séries históricas do ativo. LLM's foram utilizados para auxiliar na extração dessas informações de forma eficiente.\n"
      ],
      "metadata": {
        "id": "yPA8MyvQlw5h"
      }
    },
    {
      "cell_type": "markdown",
      "source": [
        "### **Instalando dependências**\n"
      ],
      "metadata": {
        "id": "383WdsHmoe8U"
      }
    },
    {
      "cell_type": "code",
      "source": [
        "!pip install newsapi-python\n",
        "!pip install ipywidgets\n",
        "!pip install langchain_google_genai\n",
        "!pip install langchain -q U"
      ],
      "metadata": {
        "id": "rEpjCG1zlpq-"
      },
      "execution_count": null,
      "outputs": []
    },
    {
      "cell_type": "markdown",
      "source": [
        "### **Importando dependências e definindo as APIS KEYS**"
      ],
      "metadata": {
        "id": "wXd7ZrGPo-CY"
      }
    },
    {
      "cell_type": "code",
      "execution_count": null,
      "metadata": {
        "colab": {
          "base_uri": "https://localhost:8080/"
        },
        "id": "tpSu_aikDdKy",
        "outputId": "1d8fd3fe-8189-4360-f9cb-849a07443172",
        "collapsed": true
      },
      "outputs": [
        {
          "name": "stdout",
          "output_type": "stream",
          "text": [
            "··········\n",
            "··········\n"
          ]
        }
      ],
      "source": [
        "from newsapi import NewsApiClient\n",
        "import requests\n",
        "from bs4 import BeautifulSoup\n",
        "import os\n",
        "import getpass\n",
        "import ipywidgets as widgets\n",
        "import datetime as dt\n",
        "from datetime import date\n",
        "import json\n",
        "\n",
        "os.environ['NEWS_API'] = getpass.getpass()\n",
        "os.environ[\"GOOGLE_API_KEY\"] = getpass.getpass()\n"
      ]
    },
    {
      "cell_type": "markdown",
      "source": [
        "### **Função Para pegar todas as notícias de um determinado Commodity**\n",
        "\n",
        "Essa função busca artigos sobre uma commodity na NewsAPI e tenta extrair o texto completo de um deles de acordo com os seguintes passos:\n",
        "\n",
        "- Faz a busca de artigos relacionados à commodity e finanças usando a API NewsAPI.\n",
        "- Tenta acessar a URL de cada artigo e extrair seu conteúdo com BeautifulSoup.\n",
        "- Cria um objeto com o título, fonte e texto do artigo."
      ],
      "metadata": {
        "id": "_8xu-xQ_pTJk"
      }
    },
    {
      "cell_type": "code",
      "source": [
        "def get_all_articles(commodity, sources=None, domains=None, from_param=None, to=None, language='en', sort_by='relevancy', page=1):\n",
        "    article = ''\n",
        "    newsapi = NewsApiClient(api_key=os.getenv('NEWS_API'))\n",
        "    all_articles = newsapi.get_everything(q='financial '+commodity+' commodity price',\n",
        "                                          sources=sources,\n",
        "                                          domains=domains,\n",
        "                                          from_param=from_param,\n",
        "                                          to=to,\n",
        "                                          language=language,\n",
        "                                          sort_by=sort_by,\n",
        "                                          page=page,\n",
        "                                          page_size=5)\n",
        "\n",
        "    articles = all_articles.get('articles')\n",
        "\n",
        "    if articles:\n",
        "\n",
        "        for i, article in enumerate(articles, start=1):\n",
        "            # Tentativa de extrair texto do link do artigo\n",
        "            try:\n",
        "                response = requests.get(article['url'])\n",
        "                soup = BeautifulSoup(response.content, 'html.parser')\n",
        "\n",
        "                # Extrai o texto do corpo do artigo\n",
        "                paragraphs = soup.find_all('p')\n",
        "                article_text = '\\n'.join([para.get_text() for para in paragraphs])\n",
        "                article = Articles(commodity=commodity,title=article['title'], name=article['source']['name'], paragraphs=article_text)\n",
        "            except Exception as e:\n",
        "                print(f\"   Não foi possível extrair o texto do artigo: {e}\")\n",
        "                article = ''\n",
        "    else:\n",
        "        print(\"Nenhum artigo encontrado.\")\n",
        "    return article"
      ],
      "metadata": {
        "id": "5N64oc2gYK5h"
      },
      "execution_count": null,
      "outputs": []
    },
    {
      "cell_type": "markdown",
      "source": [
        "### **Usando classes pydantic**"
      ],
      "metadata": {
        "id": "y4BXA1yGpvML"
      }
    },
    {
      "cell_type": "markdown",
      "source": [
        "Validação de Dados: Pydantic permite definir e validar a estrutura dos dados de forma declarativa. Isso é útil para garantir que os dados atendam aos requisitos esperados antes de serem processados ou armazenados.\n",
        "\n",
        "**Type Hinting**: Utiliza anotações de tipo para validar e converter dados.\n",
        "Isso ajuda a evitar erros comuns relacionados a tipos de dados e melhora a legibilidade e a manutenção do código.\n",
        "\n",
        "**Conversão de Dados**: Além de validar, Pydantic pode converter dados para os tipos esperados. Por exemplo, se um campo é esperado como um inteiro, mas o valor é fornecido como uma string, Pydantic pode converter automaticamente para o tipo correto.\n",
        "\n",
        "**Integração com APIs**: É muito útil para trabalhar com APIs e outras fontes de dados externas. Você pode definir modelos que representam a estrutura dos dados da API e garantir que os dados recebidos estejam corretos."
      ],
      "metadata": {
        "id": "uDWaluFP14ZC"
      }
    },
    {
      "cell_type": "code",
      "execution_count": null,
      "metadata": {
        "id": "C4es-aXojbun"
      },
      "outputs": [],
      "source": [
        "from typing import Dict\n",
        "from langchain.output_parsers import PydanticOutputParser\n",
        "from langchain.prompts import PromptTemplate\n",
        "from pydantic import BaseModel, Field\n",
        "\n",
        "class Commodity(BaseModel):\n",
        "    \"\"\"Informações sobre um commodity.\"\"\"\n",
        "    commodity: str = Field(description=\"Nome do commodity\")\n",
        "    price: str = Field(description=\"Preço do commodity\")\n",
        "    mv: dict = Field(description=\"Médias Móveis\")\n",
        "\n",
        "class Status(BaseModel):\n",
        "    \"\"\"Informações sobre o status do commodity.\"\"\"\n",
        "    status: str = Field(description=\"Status do commodity\")\n",
        "    commodity: str = Field(description=\"Nome do commodity\")\n",
        "    price: str = Field(description=\"Preço do commodity\")\n",
        "\n",
        "class Articles(BaseModel):\n",
        "    \"\"\"Informações sobre os artigos.\"\"\"\n",
        "    commodity: str = Field(description=\"Nome do commodity\")\n",
        "    title: str = Field(description=\"Título do artigo\")\n",
        "    name: str = Field(description=\"nome do artigo\")\n",
        "    paragraphs: str = Field(description=\"texto do artigo\")"
      ]
    },
    {
      "cell_type": "markdown",
      "source": [
        "### **Definindo o LLM**"
      ],
      "metadata": {
        "id": "jPJVTHxHp9g1"
      }
    },
    {
      "cell_type": "code",
      "execution_count": null,
      "metadata": {
        "id": "AS5_RGzp6oqb"
      },
      "outputs": [],
      "source": [
        "from langchain_google_genai import ChatGoogleGenerativeAI\n",
        "\n",
        "llm = ChatGoogleGenerativeAI(\n",
        "    model=\"gemini-1.5-flash\",\n",
        "    temperature=0, #definir temperatura 0 para o modelo ser mais deterministico\n",
        "    max_tokens=None,\n",
        "    timeout=None,\n",
        "    max_retries=2,\n",
        "    verbose=True,\n",
        ")"
      ]
    },
    {
      "cell_type": "markdown",
      "source": [
        "### **Definindo prompt1**"
      ],
      "metadata": {
        "id": "kxisWTaYqDVw"
      }
    },
    {
      "cell_type": "markdown",
      "source": [
        "Esse prompt é responsável por executar a **sumarização** ao extrair a tabela de médias móveis e converter em Json e também capturar o preço do commodity. Usando o *PydanticOutputParser* podemos converter uma saída em uma classe pydantic, no caso a classe foi *Commodity*."
      ],
      "metadata": {
        "id": "3WsDDMF92XH_"
      }
    },
    {
      "cell_type": "code",
      "execution_count": null,
      "metadata": {
        "id": "CyVdUDyWspSZ"
      },
      "outputs": [],
      "source": [
        "parser1 = PydanticOutputParser(pydantic_object=Commodity)\n",
        "\n",
        "prompt1 = PromptTemplate(\n",
        "     template=(\n",
        "        \"The name of commodity: {commodity} and the price: {price}. You are a skilled expert in HTML data extraction, your task is to analyze the provided HTML table and \"\n",
        "        \"convert its content into a structured JSON format. \"\n",
        "        \"the price: {price}, capturing the relevant information accurately. \\n\"\n",
        "        \"{format_instructions} \\n\"\n",
        "        \"HTML content to analyze:\\n\"\n",
        "        \"{html}\"\n",
        "    ),\n",
        "    input_variables=[\"html\", \"commodity\", \"price\"],\n",
        "    partial_variables={\"format_instructions\": parser1.get_format_instructions()},\n",
        ")"
      ]
    },
    {
      "cell_type": "markdown",
      "source": [
        "### **Função Para pegar os indicativos**"
      ],
      "metadata": {
        "id": "qOOObdQEqOkg"
      }
    },
    {
      "cell_type": "markdown",
      "source": [
        "É feito um scraping para a **extração de informação** do site *investing.com* para pegar as médias móveis e o preço atual do commodity. O LLM é chamado com o *prompt1* e o invocamos com as respctivas variáveis: *table* (tabela de médias móveis), *commodity* (nome do commodity) e *price* (preço do commodity)."
      ],
      "metadata": {
        "id": "AOXcKqXp3fzW"
      }
    },
    {
      "cell_type": "code",
      "execution_count": null,
      "metadata": {
        "id": "y1cM3lXkckAC"
      },
      "outputs": [],
      "source": [
        "import requests\n",
        "from bs4 import BeautifulSoup\n",
        "\n",
        "def setMAs(commodity):\n",
        "  request = requests.get('https://br.investing.com/commodities/'+commodity+'-technical')\n",
        "  soup = BeautifulSoup(request.text, 'html.parser')\n",
        "  price = soup.find('div', {'class': 'text-5xl/9'}).text\n",
        "  tables = soup.find_all('table', {'class': 'datatable_table__DE_1_'})\n",
        "  for i in tables:\n",
        "      if 'MA5' in i.text:\n",
        "          table = i\n",
        "          break\n",
        "  chain = prompt1 | llm | parser1\n",
        "  response = chain.invoke({\"html\": table, \"commodity\": commodity, \"price\": price})\n",
        "  jsonResponse = response.json()\n",
        "  with open(commodity+\".json\", \"w\") as arquivo:\n",
        "      arquivo.write(jsonResponse)"
      ]
    },
    {
      "cell_type": "markdown",
      "source": [
        "### **Definindo prompt2**"
      ],
      "metadata": {
        "id": "jqYB5l1BqZhf"
      }
    },
    {
      "cell_type": "markdown",
      "source": [
        "O *prompt2* passa a instrução para o modelo de análise dos indicativos e dos atigos das notícias por meio da **análise de sentimento**. Foi definido um peso de 15% nos indicativos e 85% nas notícias. Também com a saída foi \"paresada\" para uma classe pydantic."
      ],
      "metadata": {
        "id": "WCDudVka4ZOz"
      }
    },
    {
      "cell_type": "code",
      "execution_count": null,
      "metadata": {
        "id": "vOmgaSg68wcp"
      },
      "outputs": [],
      "source": [
        "parser2 = PydanticOutputParser(pydantic_object=Status)\n",
        "\n",
        "prompt2 = PromptTemplate(\n",
        "     template=(\n",
        "        \"You are a skilled trading expert. Your task is to analyze the provided data on the average exponential and simple moving averages, along with a relevant market article. \"\n",
        "        \"Compare the current price with these averages and determine if the commodity is trending up or down based on market rules.\\n\"\n",
        "        \"Consider the following:\\n\"\n",
        "        \"If the current price is above both the exponential and simple moving averages, the trend is likely UP.\\n\"\n",
        "        \"If the current price is below both the exponential and simple moving averages, the trend is likely DOWN.\\n\"\n",
        "        \"If the current price is above one and below the other, use the majority trend to determine the direction.\\n\"\n",
        "        \"If the moving average is sloping upwards, it may indicate an uptrend. If it is sloping downwards, it may suggest a downtrend.\\n\"\n",
        "        \"Additionally, consider the sentiment in the provided article.\\n\" #considerar o sentimento do artigo\n",
        "        \"If the article suggests positive sentiment (e.g., demand increase or supply constraint), it may confirm an uptrend.\\n\" #se o article é positivo é possível uma tendência de alta\n",
        "        \"If the article suggests negative sentiment (e.g., surplus supply or weakening demand), it may confirm a downtrend.\\n\"\n",
        "        \"Please note that the article's sentiment has a weight of 85%, while the technical indicators (moving averages) carry a weight of 15%.\\n\" #declarando os pesos\n",
        "        \"Your final analysis should reflect these weights when determining the trend direction.\\n\"\n",
        "        \"Respond with either 'UP' or 'DOWN' followed by the name of the commodity and the price.\\n\" #instruindo a resposta\n",
        "        \"When the short-term moving average crosses below the long-term moving average, this may suggest a bearish trend.\\n\"\n",
        "        \"Format Instructions: {format_instructions}\\n\"\n",
        "        \"Data to analyze: {commodityJson}\\n\"\n",
        "        \"Article to analyze: {articleJson}\"\n",
        "    ),\n",
        "    input_variables=[\"commodityJson\",\"articleJson\"],\n",
        "    partial_variables={\"format_instructions\": parser2.get_format_instructions()},\n",
        ")\n"
      ]
    },
    {
      "cell_type": "markdown",
      "source": [
        "### **Função para analise final com o LLM**"
      ],
      "metadata": {
        "id": "YNgIjVDJqc_6"
      }
    },
    {
      "cell_type": "markdown",
      "source": [
        "Nas saídas das médias móveis e nóticias armazenadas em json, a função responsável por analisar os dados acessa esses arquivos *.json* e invoca o llm com prompt2."
      ],
      "metadata": {
        "id": "DPEAGN8-49gs"
      }
    },
    {
      "cell_type": "code",
      "execution_count": null,
      "metadata": {
        "id": "sPYq3fU--5Sq"
      },
      "outputs": [],
      "source": [
        "def llm_analisy(commodity):\n",
        "  with open(commodity+\".json\", \"r\") as arquivo:\n",
        "      MAsJson = arquivo.read()\n",
        "  with open(commodity+\"_articles.json\", \"r\") as arquivo:\n",
        "      articleJson = arquivo.read()\n",
        "  chain = prompt2 | llm | parser2\n",
        "  response = chain.invoke({\"commodityJson\": MAsJson, \"articleJson\": articleJson})\n",
        "  return response.json()"
      ]
    },
    {
      "cell_type": "markdown",
      "source": [
        "### **Lista dos Commodities**"
      ],
      "metadata": {
        "id": "1Wq_d04GqpLV"
      }
    },
    {
      "cell_type": "markdown",
      "source": [
        "A lista dos commodities foi retirada conforme a base do investing.com e pode ser acessada aqui: https://br.investing.com/commodities"
      ],
      "metadata": {
        "id": "kDJ4ytqA5Xrw"
      }
    },
    {
      "cell_type": "code",
      "source": [
        "commodities = [\n",
        "    'gold',\n",
        "    'silver',\n",
        "    'copper',\n",
        "    'platinum',\n",
        "    'brent-oil',\n",
        "    'crude-oil',\n",
        "    'natural-gas',\n",
        "    'heating-oil',\n",
        "    'us-coffee-c',\n",
        "    'us-corn',\n",
        "    'us-wheat',\n",
        "    'london-sugar',\n",
        "    'us-cotton-no.2',\n",
        "    'us-cocoa',\n",
        "    'oats',\n",
        "    'palladium',\n",
        "    'london-gas-oil',\n",
        "    'aluminum',\n",
        "    'rough-rice',\n",
        "    'lumber',\n",
        "    'feed-cattle',\n",
        "    'lean-hogs',\n",
        "    'live-cattle'\n",
        "\n",
        "]"
      ],
      "metadata": {
        "id": "PVVtH3ZYdTD3"
      },
      "execution_count": null,
      "outputs": []
    },
    {
      "cell_type": "markdown",
      "source": [
        "### **Usando widgets para adicionar um select personalizado**"
      ],
      "metadata": {
        "id": "WqG7amHRqutq"
      }
    },
    {
      "cell_type": "markdown",
      "source": [
        "Usando o widgets para personalizar a experiência do usuário, podemos usar elementos DOM do HTML, o widgets forncece uma ampla variedades de recursos. Abaixo utilizamos o select com a lista dos commodities."
      ],
      "metadata": {
        "id": "z3be-r575xnS"
      }
    },
    {
      "cell_type": "code",
      "source": [
        "select = widgets.Select(\n",
        "    options=commodities,\n",
        "    value='gold',\n",
        "    # rows=10,\n",
        "    description='Commodity:',\n",
        "    disabled=False\n",
        ")\n",
        "\n",
        "display(select)\n",
        "\n"
      ],
      "metadata": {
        "colab": {
          "base_uri": "https://localhost:8080/",
          "height": 111,
          "referenced_widgets": [
            "cbda444913234a9780f8ce6a97961a67",
            "68816df6264d4f31abf5192e097126ab",
            "ec93a42a953648db984220b774f98a74"
          ]
        },
        "id": "Tzgk6KCbbpqb",
        "outputId": "d07b5993-0f30-4cc6-98b3-5eab21702375"
      },
      "execution_count": null,
      "outputs": [
        {
          "output_type": "display_data",
          "data": {
            "text/plain": [
              "Select(description='Commodity:', options=('gold', 'silver', 'copper', 'platinum', 'brent-oil', 'crude-oil', 'n…"
            ],
            "application/vnd.jupyter.widget-view+json": {
              "version_major": 2,
              "version_minor": 0,
              "model_id": "cbda444913234a9780f8ce6a97961a67"
            }
          },
          "metadata": {}
        }
      ]
    },
    {
      "cell_type": "markdown",
      "source": [
        "### **Execução das funções e indicação sobre status do commodity**"
      ],
      "metadata": {
        "id": "2HmRyWGOq5La"
      }
    },
    {
      "cell_type": "code",
      "source": [
        "commodity = select.value\n",
        "\n",
        "articles = get_all_articles(commodity)\n",
        "with open(commodity+\"_articles.json\", \"w\") as arquivo:\n",
        "    arquivo.write(articles.json())\n",
        "\n",
        "setMAs(commodity)\n",
        "info = llm_analisy(commodity)"
      ],
      "metadata": {
        "id": "JKfERlP-dLu1"
      },
      "execution_count": null,
      "outputs": []
    },
    {
      "cell_type": "markdown",
      "source": [
        "### **Personalização da saída com widgets**"
      ],
      "metadata": {
        "id": "11dFboIL0VbM"
      }
    },
    {
      "cell_type": "markdown",
      "source": [
        "Criando uma tabela HTML com estilo CSS para a saída do commodity."
      ],
      "metadata": {
        "id": "qxydPqsi6TRJ"
      }
    },
    {
      "cell_type": "code",
      "source": [
        "info_json = json.loads(info)\n",
        "commodity = info_json['commodity']\n",
        "status = info_json['status']\n",
        "price = info_json['price']\n",
        "data_atual = date.today()\n",
        "data = \"{}/{}/{}\".format(data_atual.day, data_atual.month,\n",
        "data_atual.year)\n",
        "\n",
        "table_html = \"\"\"\n",
        "<style>\n",
        "  table {\n",
        "    width: 100%;\n",
        "    border-collapse: separate;\n",
        "    border-spacing: 0;\n",
        "    border-radius: 15px;\n",
        "    overflow: hidden;\n",
        "    box-shadow: 0 4px 8px rgba(0, 0, 0, 0.1);\n",
        "    font-family: Arial, sans-serif;\n",
        "    text-align: center;\n",
        "  }\n",
        "  th, td {\n",
        "    padding: 12px;\n",
        "  }\n",
        "  th {\n",
        "    background-color: #4CAF50;\n",
        "    color: white;\n",
        "  }\n",
        "  tr:nth-child(even) {\n",
        "    background-color: #f2f2f2;\n",
        "  }\n",
        "  tr:nth-child(odd) {\n",
        "    background-color: #ffffff;\n",
        "  }\n",
        "  td {\n",
        "    border-bottom: 1px solid #ddd;\n",
        "  }\n",
        "  tr:hover {\n",
        "    background-color: #e0e0e0;\n",
        "  }\n",
        "</style>\n",
        "<table>\n",
        "  <thead>\n",
        "    <tr>\n",
        "      <th>Commodity</th>\n",
        "      <th>Price (USD)</th>\n",
        "      <th>Date</th>\n",
        "      <th>Previsão</th>\n",
        "    </tr>\n",
        "  </thead>\n",
        "  <tbody>\n",
        "    <tr>\n",
        "      <td>\"\"\"+commodity+\"\"\"</td>\n",
        "      <td>\"\"\"+price+\"\"\"<//td>\n",
        "      <td>\"\"\"+data+\"\"\"<//td>\n",
        "      <td>\"\"\"+status+\"\"\"<//td>\n",
        "    </tr>\n",
        "  </tbody>\n",
        "</table>\n",
        "\"\"\"\n",
        "\n",
        "widgets.HTML(\n",
        "    value=table_html,\n",
        ")"
      ],
      "metadata": {
        "colab": {
          "base_uri": "https://localhost:8080/",
          "height": 126,
          "referenced_widgets": [
            "0024cf4f6ab24c06b660dbd82318d389",
            "cd94317c2a80476393280a2d07cbdffc",
            "848d0065445b492a885da0c6ec46ac02"
          ]
        },
        "id": "bzrnxF8urjkx",
        "outputId": "146f3e6d-3afe-401a-bd9d-40b380cc8dc2"
      },
      "execution_count": null,
      "outputs": [
        {
          "output_type": "display_data",
          "data": {
            "text/plain": [
              "HTML(value='\\n<style>\\n  table {\\n    width: 100%;\\n    border-collapse: separate;\\n    border-spacing: 0;\\n  …"
            ],
            "application/vnd.jupyter.widget-view+json": {
              "version_major": 2,
              "version_minor": 0,
              "model_id": "0024cf4f6ab24c06b660dbd82318d389"
            }
          },
          "metadata": {}
        }
      ]
    },
    {
      "cell_type": "markdown",
      "source": [
        "### **Referências**\n",
        "\n",
        "[News Api](https://newsapi.org/)\n",
        "\n",
        "[Widgets Python](https://ipywidgets.readthedocs.io/en/latest/examples/Widget%20Basics.html)\n",
        "\n",
        "[Investing.com](https://www.investing.com/)\n",
        "\n",
        "[Pydantic](https://docs.pydantic.dev/latest/)"
      ],
      "metadata": {
        "id": "yBU57Q180gdW"
      }
    }
  ],
  "metadata": {
    "colab": {
      "provenance": []
    },
    "kernelspec": {
      "display_name": "Python 3",
      "name": "python3"
    },
    "language_info": {
      "name": "python"
    },
    "widgets": {
      "application/vnd.jupyter.widget-state+json": {
        "cbda444913234a9780f8ce6a97961a67": {
          "model_module": "@jupyter-widgets/controls",
          "model_name": "SelectModel",
          "model_module_version": "1.5.0",
          "state": {
            "_dom_classes": [],
            "_model_module": "@jupyter-widgets/controls",
            "_model_module_version": "1.5.0",
            "_model_name": "SelectModel",
            "_options_labels": [
              "gold",
              "silver",
              "copper",
              "platinum",
              "brent-oil",
              "crude-oil",
              "natural-gas",
              "heating-oil",
              "us-coffee-c",
              "us-corn",
              "us-wheat",
              "london-sugar",
              "us-cotton-no.2",
              "us-cocoa",
              "oats",
              "palladium",
              "london-gas-oil",
              "aluminum",
              "rough-rice",
              "lumber",
              "feed-cattle",
              "lean-hogs",
              "live-cattle"
            ],
            "_view_count": null,
            "_view_module": "@jupyter-widgets/controls",
            "_view_module_version": "1.5.0",
            "_view_name": "SelectView",
            "description": "Commodity:",
            "description_tooltip": null,
            "disabled": false,
            "index": 0,
            "layout": "IPY_MODEL_68816df6264d4f31abf5192e097126ab",
            "rows": 5,
            "style": "IPY_MODEL_ec93a42a953648db984220b774f98a74"
          }
        },
        "68816df6264d4f31abf5192e097126ab": {
          "model_module": "@jupyter-widgets/base",
          "model_name": "LayoutModel",
          "model_module_version": "1.2.0",
          "state": {
            "_model_module": "@jupyter-widgets/base",
            "_model_module_version": "1.2.0",
            "_model_name": "LayoutModel",
            "_view_count": null,
            "_view_module": "@jupyter-widgets/base",
            "_view_module_version": "1.2.0",
            "_view_name": "LayoutView",
            "align_content": null,
            "align_items": null,
            "align_self": null,
            "border": null,
            "bottom": null,
            "display": null,
            "flex": null,
            "flex_flow": null,
            "grid_area": null,
            "grid_auto_columns": null,
            "grid_auto_flow": null,
            "grid_auto_rows": null,
            "grid_column": null,
            "grid_gap": null,
            "grid_row": null,
            "grid_template_areas": null,
            "grid_template_columns": null,
            "grid_template_rows": null,
            "height": null,
            "justify_content": null,
            "justify_items": null,
            "left": null,
            "margin": null,
            "max_height": null,
            "max_width": null,
            "min_height": null,
            "min_width": null,
            "object_fit": null,
            "object_position": null,
            "order": null,
            "overflow": null,
            "overflow_x": null,
            "overflow_y": null,
            "padding": null,
            "right": null,
            "top": null,
            "visibility": null,
            "width": null
          }
        },
        "ec93a42a953648db984220b774f98a74": {
          "model_module": "@jupyter-widgets/controls",
          "model_name": "DescriptionStyleModel",
          "model_module_version": "1.5.0",
          "state": {
            "_model_module": "@jupyter-widgets/controls",
            "_model_module_version": "1.5.0",
            "_model_name": "DescriptionStyleModel",
            "_view_count": null,
            "_view_module": "@jupyter-widgets/base",
            "_view_module_version": "1.2.0",
            "_view_name": "StyleView",
            "description_width": ""
          }
        },
        "0024cf4f6ab24c06b660dbd82318d389": {
          "model_module": "@jupyter-widgets/controls",
          "model_name": "HTMLModel",
          "model_module_version": "1.5.0",
          "state": {
            "_dom_classes": [],
            "_model_module": "@jupyter-widgets/controls",
            "_model_module_version": "1.5.0",
            "_model_name": "HTMLModel",
            "_view_count": null,
            "_view_module": "@jupyter-widgets/controls",
            "_view_module_version": "1.5.0",
            "_view_name": "HTMLView",
            "description": "",
            "description_tooltip": null,
            "layout": "IPY_MODEL_cd94317c2a80476393280a2d07cbdffc",
            "placeholder": "​",
            "style": "IPY_MODEL_848d0065445b492a885da0c6ec46ac02",
            "value": "\n<style>\n  table {\n    width: 100%;\n    border-collapse: separate;\n    border-spacing: 0;\n    border-radius: 15px;\n    overflow: hidden;\n    box-shadow: 0 4px 8px rgba(0, 0, 0, 0.1);\n    font-family: Arial, sans-serif;\n    text-align: center;\n  }\n  th, td {\n    padding: 12px;\n  }\n  th {\n    background-color: #4CAF50;\n    color: white;\n  }\n  tr:nth-child(even) {\n    background-color: #f2f2f2;\n  }\n  tr:nth-child(odd) {\n    background-color: #ffffff;\n  }\n  td {\n    border-bottom: 1px solid #ddd;\n  }\n  tr:hover {\n    background-color: #e0e0e0;\n  }\n</style>\n<table>\n  <thead>\n    <tr>\n      <th>Commodity</th>\n      <th>Price (USD)</th>\n      <th>Date</th>\n      <th>Previsão</th>\n    </tr>\n  </thead>\n  <tbody>\n    <tr>\n      <td>gold</td>\n      <td>2.526,80<//td>\n      <td>7/9/2024<//td>\n      <td>DOWN<//td>\n    </tr>\n  </tbody>\n</table>\n"
          }
        },
        "cd94317c2a80476393280a2d07cbdffc": {
          "model_module": "@jupyter-widgets/base",
          "model_name": "LayoutModel",
          "model_module_version": "1.2.0",
          "state": {
            "_model_module": "@jupyter-widgets/base",
            "_model_module_version": "1.2.0",
            "_model_name": "LayoutModel",
            "_view_count": null,
            "_view_module": "@jupyter-widgets/base",
            "_view_module_version": "1.2.0",
            "_view_name": "LayoutView",
            "align_content": null,
            "align_items": null,
            "align_self": null,
            "border": null,
            "bottom": null,
            "display": null,
            "flex": null,
            "flex_flow": null,
            "grid_area": null,
            "grid_auto_columns": null,
            "grid_auto_flow": null,
            "grid_auto_rows": null,
            "grid_column": null,
            "grid_gap": null,
            "grid_row": null,
            "grid_template_areas": null,
            "grid_template_columns": null,
            "grid_template_rows": null,
            "height": null,
            "justify_content": null,
            "justify_items": null,
            "left": null,
            "margin": null,
            "max_height": null,
            "max_width": null,
            "min_height": null,
            "min_width": null,
            "object_fit": null,
            "object_position": null,
            "order": null,
            "overflow": null,
            "overflow_x": null,
            "overflow_y": null,
            "padding": null,
            "right": null,
            "top": null,
            "visibility": null,
            "width": null
          }
        },
        "848d0065445b492a885da0c6ec46ac02": {
          "model_module": "@jupyter-widgets/controls",
          "model_name": "DescriptionStyleModel",
          "model_module_version": "1.5.0",
          "state": {
            "_model_module": "@jupyter-widgets/controls",
            "_model_module_version": "1.5.0",
            "_model_name": "DescriptionStyleModel",
            "_view_count": null,
            "_view_module": "@jupyter-widgets/base",
            "_view_module_version": "1.2.0",
            "_view_name": "StyleView",
            "description_width": ""
          }
        }
      }
    }
  },
  "nbformat": 4,
  "nbformat_minor": 0
}